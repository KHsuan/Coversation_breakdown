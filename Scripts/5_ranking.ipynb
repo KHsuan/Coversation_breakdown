{
 "cells": [
  {
   "cell_type": "code",
   "execution_count": 1,
   "metadata": {},
   "outputs": [
    {
     "name": "stderr",
     "output_type": "stream",
     "text": [
      "2024-06-11 09:49:10.608882: I tensorflow/core/platform/cpu_feature_guard.cc:182] This TensorFlow binary is optimized to use available CPU instructions in performance-critical operations.\n",
      "To enable the following instructions: AVX2 FMA, in other operations, rebuild TensorFlow with the appropriate compiler flags.\n",
      "2024-06-11 09:49:29.587661: W tensorflow/compiler/tf2tensorrt/utils/py_utils.cc:38] TF-TRT Warning: Could not find TensorRT\n",
      "/rds/general/user/yk222/home/anaconda3/envs/tf2_env/lib/python3.11/site-packages/tqdm/auto.py:21: TqdmWarning: IProgress not found. Please update jupyter and ipywidgets. See https://ipywidgets.readthedocs.io/en/stable/user_install.html\n",
      "  from .autonotebook import tqdm as notebook_tqdm\n"
     ]
    }
   ],
   "source": [
    "import tensorflow as tf\n",
    "from transformers import BertTokenizer, TFBertModel\n",
    "import pandas as pd\n",
    "import lightgbm as lgb\n",
    "import numpy as np\n",
    "from sklearn.model_selection import train_test_split\n",
    "from functions import *"
   ]
  },
  {
   "cell_type": "code",
   "execution_count": 2,
   "metadata": {},
   "outputs": [
    {
     "data": {
      "text/html": [
       "<div>\n",
       "<style scoped>\n",
       "    .dataframe tbody tr th:only-of-type {\n",
       "        vertical-align: middle;\n",
       "    }\n",
       "\n",
       "    .dataframe tbody tr th {\n",
       "        vertical-align: top;\n",
       "    }\n",
       "\n",
       "    .dataframe thead th {\n",
       "        text-align: right;\n",
       "    }\n",
       "</style>\n",
       "<table border=\"1\" class=\"dataframe\">\n",
       "  <thead>\n",
       "    <tr style=\"text-align: right;\">\n",
       "      <th></th>\n",
       "      <th>model</th>\n",
       "      <th>context</th>\n",
       "      <th>response</th>\n",
       "      <th>overall_score</th>\n",
       "      <th>context_id</th>\n",
       "      <th>context_response</th>\n",
       "    </tr>\n",
       "  </thead>\n",
       "  <tbody>\n",
       "    <tr>\n",
       "      <th>2823</th>\n",
       "      <td>t5</td>\n",
       "      <td>17 weeks if im not mistaken. then the playoffs...</td>\n",
       "      <td>&lt;unk&gt; s&gt;I think it was a college game.</td>\n",
       "      <td>4.00</td>\n",
       "      <td>1</td>\n",
       "      <td>17 weeks if im not mistaken. then the playoffs...</td>\n",
       "    </tr>\n",
       "    <tr>\n",
       "      <th>2323</th>\n",
       "      <td>attention_s2s</td>\n",
       "      <td>17 weeks if im not mistaken. then the playoffs...</td>\n",
       "      <td>I think it was a college game and it was a col...</td>\n",
       "      <td>3.75</td>\n",
       "      <td>1</td>\n",
       "      <td>17 weeks if im not mistaken. then the playoffs...</td>\n",
       "    </tr>\n",
       "    <tr>\n",
       "      <th>1823</th>\n",
       "      <td>random</td>\n",
       "      <td>17 weeks if im not mistaken. then the playoffs...</td>\n",
       "      <td>I bet they do. They are probably made by engin...</td>\n",
       "      <td>3.00</td>\n",
       "      <td>1</td>\n",
       "      <td>17 weeks if im not mistaken. then the playoffs...</td>\n",
       "    </tr>\n",
       "    <tr>\n",
       "      <th>823</th>\n",
       "      <td>dialogpt</td>\n",
       "      <td>17 weeks if im not mistaken. then the playoffs...</td>\n",
       "      <td>It was a pro game, but still. It was exciting ...</td>\n",
       "      <td>3.75</td>\n",
       "      <td>1</td>\n",
       "      <td>17 weeks if im not mistaken. then the playoffs...</td>\n",
       "    </tr>\n",
       "    <tr>\n",
       "      <th>3823</th>\n",
       "      <td>attention_vhred</td>\n",
       "      <td>17 weeks if im not mistaken. then the playoffs...</td>\n",
       "      <td>The coach was the coach and the coach was the ...</td>\n",
       "      <td>3.75</td>\n",
       "      <td>1</td>\n",
       "      <td>17 weeks if im not mistaken. then the playoffs...</td>\n",
       "    </tr>\n",
       "    <tr>\n",
       "      <th>3323</th>\n",
       "      <td>gpt3_davinci</td>\n",
       "      <td>17 weeks if im not mistaken. then the playoffs...</td>\n",
       "      <td>It is professional game. What is the highest s...</td>\n",
       "      <td>3.50</td>\n",
       "      <td>1</td>\n",
       "      <td>17 weeks if im not mistaken. then the playoffs...</td>\n",
       "    </tr>\n",
       "    <tr>\n",
       "      <th>323</th>\n",
       "      <td>blenderbot-400M-distill</td>\n",
       "      <td>17 weeks if im not mistaken. then the playoffs...</td>\n",
       "      <td>I think it was a college game, but I'm not 100...</td>\n",
       "      <td>4.25</td>\n",
       "      <td>1</td>\n",
       "      <td>17 weeks if im not mistaken. then the playoffs...</td>\n",
       "    </tr>\n",
       "    <tr>\n",
       "      <th>4323</th>\n",
       "      <td>ground_truth</td>\n",
       "      <td>17 weeks if im not mistaken. then the playoffs...</td>\n",
       "      <td>222-0. It happened in 1916 when Georgia tech d...</td>\n",
       "      <td>4.50</td>\n",
       "      <td>1</td>\n",
       "      <td>17 weeks if im not mistaken. then the playoffs...</td>\n",
       "    </tr>\n",
       "    <tr>\n",
       "      <th>1323</th>\n",
       "      <td>attention_hred</td>\n",
       "      <td>17 weeks if im not mistaken. then the playoffs...</td>\n",
       "      <td>It was Georgia Tech beat Cumberland 222-0</td>\n",
       "      <td>3.50</td>\n",
       "      <td>1</td>\n",
       "      <td>17 weeks if im not mistaken. then the playoffs...</td>\n",
       "    </tr>\n",
       "    <tr>\n",
       "      <th>951</th>\n",
       "      <td>dialogpt</td>\n",
       "      <td>18 holes a games. Seems like a long day.\\nYeah...</td>\n",
       "      <td>i agree. but is a popular sport that a lot of ...</td>\n",
       "      <td>3.75</td>\n",
       "      <td>2</td>\n",
       "      <td>18 holes a games. Seems like a long day.\\nYeah...</td>\n",
       "    </tr>\n",
       "  </tbody>\n",
       "</table>\n",
       "</div>"
      ],
      "text/plain": [
       "                        model  \\\n",
       "2823                       t5   \n",
       "2323            attention_s2s   \n",
       "1823                   random   \n",
       "823                  dialogpt   \n",
       "3823          attention_vhred   \n",
       "3323             gpt3_davinci   \n",
       "323   blenderbot-400M-distill   \n",
       "4323             ground_truth   \n",
       "1323           attention_hred   \n",
       "951                  dialogpt   \n",
       "\n",
       "                                                context  \\\n",
       "2823  17 weeks if im not mistaken. then the playoffs...   \n",
       "2323  17 weeks if im not mistaken. then the playoffs...   \n",
       "1823  17 weeks if im not mistaken. then the playoffs...   \n",
       "823   17 weeks if im not mistaken. then the playoffs...   \n",
       "3823  17 weeks if im not mistaken. then the playoffs...   \n",
       "3323  17 weeks if im not mistaken. then the playoffs...   \n",
       "323   17 weeks if im not mistaken. then the playoffs...   \n",
       "4323  17 weeks if im not mistaken. then the playoffs...   \n",
       "1323  17 weeks if im not mistaken. then the playoffs...   \n",
       "951   18 holes a games. Seems like a long day.\\nYeah...   \n",
       "\n",
       "                                               response  overall_score  \\\n",
       "2823             <unk> s>I think it was a college game.           4.00   \n",
       "2323  I think it was a college game and it was a col...           3.75   \n",
       "1823  I bet they do. They are probably made by engin...           3.00   \n",
       "823   It was a pro game, but still. It was exciting ...           3.75   \n",
       "3823  The coach was the coach and the coach was the ...           3.75   \n",
       "3323  It is professional game. What is the highest s...           3.50   \n",
       "323   I think it was a college game, but I'm not 100...           4.25   \n",
       "4323  222-0. It happened in 1916 when Georgia tech d...           4.50   \n",
       "1323          It was Georgia Tech beat Cumberland 222-0           3.50   \n",
       "951   i agree. but is a popular sport that a lot of ...           3.75   \n",
       "\n",
       "      context_id                                   context_response  \n",
       "2823           1  17 weeks if im not mistaken. then the playoffs...  \n",
       "2323           1  17 weeks if im not mistaken. then the playoffs...  \n",
       "1823           1  17 weeks if im not mistaken. then the playoffs...  \n",
       "823            1  17 weeks if im not mistaken. then the playoffs...  \n",
       "3823           1  17 weeks if im not mistaken. then the playoffs...  \n",
       "3323           1  17 weeks if im not mistaken. then the playoffs...  \n",
       "323            1  17 weeks if im not mistaken. then the playoffs...  \n",
       "4323           1  17 weeks if im not mistaken. then the playoffs...  \n",
       "1323           1  17 weeks if im not mistaken. then the playoffs...  \n",
       "951            2  18 holes a games. Seems like a long day.\\nYeah...  "
      ]
     },
     "execution_count": 2,
     "metadata": {},
     "output_type": "execute_result"
    }
   ],
   "source": [
    "df = pd.read_json('../Data/Target/dstc10-topical_eval.json')\n",
    "\n",
    "#### make same context with same context ID\n",
    "df_split = relevance_score(df)\n",
    "df = df_split[[\"model\", \"context\", \"response\", \"overall_score\"]]\n",
    "df = df.sort_values(by=['context'])\n",
    "id = list(range(1, 501)) * 9\n",
    "id.sort()\n",
    "df[\"context_id\"] = id\n",
    "df['context_response'] = df.apply(lambda x: f\"{x['context']} [SEP] {x['response']}\", axis=1)\n",
    "df.head(10)"
   ]
  },
  {
   "cell_type": "code",
   "execution_count": 3,
   "metadata": {},
   "outputs": [
    {
     "name": "stderr",
     "output_type": "stream",
     "text": [
      "2024-06-11 09:51:52.739102: I tensorflow/core/common_runtime/gpu/gpu_device.cc:1635] Created device /job:localhost/replica:0/task:0/device:GPU:0 with 22996 MB memory:  -> device: 0, name: Quadro RTX 6000, pci bus id: 0000:a1:00.0, compute capability: 7.5\n",
      "Some weights of the PyTorch model were not used when initializing the TF 2.0 model TFBertModel: ['cls.predictions.transform.LayerNorm.weight', 'cls.predictions.transform.dense.weight', 'cls.predictions.transform.LayerNorm.bias', 'cls.seq_relationship.weight', 'cls.predictions.bias', 'cls.seq_relationship.bias', 'cls.predictions.transform.dense.bias']\n",
      "- This IS expected if you are initializing TFBertModel from a PyTorch model trained on another task or with another architecture (e.g. initializing a TFBertForSequenceClassification model from a BertForPreTraining model).\n",
      "- This IS NOT expected if you are initializing TFBertModel from a PyTorch model that you expect to be exactly identical (e.g. initializing a TFBertForSequenceClassification model from a BertForSequenceClassification model).\n",
      "All the weights of TFBertModel were initialized from the PyTorch model.\n",
      "If your task is similar to the task the model of the checkpoint was trained on, you can already use TFBertModel for predictions without further training.\n"
     ]
    }
   ],
   "source": [
    "tokenizer = BertTokenizer.from_pretrained('bert-base-uncased')\n",
    "model = TFBertModel.from_pretrained('bert-base-uncased')"
   ]
  },
  {
   "cell_type": "code",
   "execution_count": 4,
   "metadata": {},
   "outputs": [],
   "source": [
    "from tqdm import tqdm\n",
    "def tokenizer_with_progress(large_batch):\n",
    "    tokenized_texts = []\n",
    "    for text in tqdm(large_batch, desc=\"Tokenizing\", unit=\"text\"):\n",
    "        tokenized_texts.append(tokenizer(text, return_tensors=\"tf\", padding='max_length', max_length=128, truncation=True))\n",
    "    \n",
    "    embeddings = []\n",
    "    for input_text in tqdm(tokenized_texts, desc=\"Embedding\", unit=\"text\"):\n",
    "        output = model(**input_text)\n",
    "        word_embeddings = output.last_hidden_state\n",
    "        embeddings.append(word_embeddings)\n",
    "\n",
    "    return embeddings"
   ]
  },
  {
   "cell_type": "code",
   "execution_count": null,
   "metadata": {},
   "outputs": [],
   "source": [
    "def kendall_tau(preds, train_data):\n",
    "    y_true = train_data.get_label()\n",
    "    tau, _ = kendalltau(y_true, preds)\n",
    "    return 'kendall_tau', 50 * (1 + tau), True"
   ]
  },
  {
   "cell_type": "markdown",
   "metadata": {},
   "source": [
    "### Cosine Similarity"
   ]
  },
  {
   "cell_type": "code",
   "execution_count": 170,
   "metadata": {},
   "outputs": [
    {
     "name": "stderr",
     "output_type": "stream",
     "text": [
      "Tokenizing: 100%|██████████| 4500/4500 [00:02<00:00, 1503.07text/s]\n",
      "Embedding: 100%|██████████| 4500/4500 [08:36<00:00,  8.72text/s]\n",
      "Tokenizing: 100%|██████████| 4500/4500 [00:01<00:00, 3134.72text/s]\n",
      "Embedding: 100%|██████████| 4500/4500 [08:33<00:00,  8.76text/s]\n"
     ]
    }
   ],
   "source": [
    "context_embeddings = tokenizer_with_progress(df['context'].tolist())\n",
    "response_embeddings = tokenizer_with_progress(df['response'].tolist())"
   ]
  },
  {
   "cell_type": "code",
   "execution_count": 171,
   "metadata": {},
   "outputs": [],
   "source": [
    "context_sentence_embedding = [tf.reduce_mean(embed, axis=1) for embed in context_embeddings]\n",
    "response_sentence_embedding = [tf.reduce_mean(embed, axis=1) for embed in response_embeddings]"
   ]
  },
  {
   "cell_type": "code",
   "execution_count": 175,
   "metadata": {},
   "outputs": [
    {
     "name": "stdout",
     "output_type": "stream",
     "text": [
      "0.39950728\n"
     ]
    }
   ],
   "source": [
    "from sklearn.metrics.pairwise import cosine_similarity\n",
    "\n",
    "cosine_similarities = []\n",
    "for i in range(len(df)):\n",
    "    context_embedding_i = context_embeddings[i].numpy()  # Convert TensorFlow tensor to NumPy array\n",
    "    response_embedding_i = response_embeddings[i].numpy()  # Convert TensorFlow tensor to NumPy array\n",
    "    \n",
    "    # Reshape the embeddings to 2D arrays\n",
    "    context_embedding_i = context_embedding_i.reshape(1, -1)  # Reshape to a single row\n",
    "    response_embedding_i = response_embedding_i.reshape(1, -1)  # Reshape to a single row\n",
    "    \n",
    "    # Calculate cosine similarity\n",
    "    similarity = cosine_similarity(context_embedding_i, response_embedding_i)\n",
    "    cosine_similarities.append(similarity[0, 0])  # Append the similarity value\n",
    "\n",
    "print(np.mean(cosine_similarities))"
   ]
  },
  {
   "cell_type": "code",
   "execution_count": 177,
   "metadata": {},
   "outputs": [
    {
     "name": "stdout",
     "output_type": "stream",
     "text": [
      "kendall_tau 53.92222595160611\n"
     ]
    }
   ],
   "source": [
    "tau, _ = kendalltau(cosine_similarities, np.round(df['overall_score']).astype(int).values)\n",
    "print('kendall_tau', 50 * (1 + tau))"
   ]
  },
  {
   "cell_type": "code",
   "execution_count": 202,
   "metadata": {},
   "outputs": [],
   "source": [
    "from sklearn.decomposition import PCA\n",
    "from sklearn.metrics.pairwise import cosine_similarity\n",
    "\n",
    "# Combine context and response embeddings\n",
    "combined_embeddings = []\n",
    "for context_embed, response_embed in zip(context_embeddings, response_embeddings):\n",
    "    combined_embed = np.concatenate([context_embed.numpy(), response_embed.numpy()], axis=0)\n",
    "    combined_embeddings.append(combined_embed)\n",
    "\n",
    "# Apply PCA to combined embeddings\n",
    "combined_embeddings_pca = []\n",
    "for combined_embed in combined_embeddings:\n",
    "    combined_embed_2d = combined_embed.reshape(-1, combined_embed.shape[-1])  # Reshape to 2D array\n",
    "    pca = PCA(n_components=48)  # Initialize PCA with desired number of components\n",
    "    combined_embed_pca = pca.fit_transform(combined_embed_2d)  # Apply PCA\n",
    "    combined_embed_pca = combined_embed_pca[:, 1:]\n",
    "    combined_embeddings_pca.append(combined_embed_pca)\n",
    "\n",
    "# Split combined embeddings back into context and response embeddings\n",
    "context_embeddings_pca = [combined_embed_pca[:len(context_embed)] for combined_embed_pca, context_embed in zip(combined_embeddings_pca, context_embeddings)]\n",
    "response_embeddings_pca = [combined_embed_pca[len(context_embed):] for combined_embed_pca, context_embed in zip(combined_embeddings_pca, context_embeddings)]"
   ]
  },
  {
   "cell_type": "code",
   "execution_count": 203,
   "metadata": {},
   "outputs": [
    {
     "name": "stdout",
     "output_type": "stream",
     "text": [
      "Mean cosine similarity after PCA: 0.30730146\n"
     ]
    }
   ],
   "source": [
    "# Calculate cosine similarity\n",
    "cosine_similarities = []\n",
    "for i in range(len(df)):\n",
    "    context_embedding_pca_i = context_embeddings_pca[i]  # PCA-transformed context embedding\n",
    "    response_embedding_pca_i = response_embeddings_pca[i]  # PCA-transformed response embedding\n",
    "    \n",
    "    # Calculate cosine similarity\n",
    "    similarity = cosine_similarity(context_embedding_pca_i, response_embedding_pca_i)\n",
    "    cosine_similarities.append(similarity[0, 0])  # Append the similarity value\n",
    "\n",
    "print(\"Mean cosine similarity after PCA:\", np.mean(cosine_similarities))"
   ]
  },
  {
   "cell_type": "code",
   "execution_count": 204,
   "metadata": {},
   "outputs": [
    {
     "name": "stdout",
     "output_type": "stream",
     "text": [
      "kendall_tau 50.750110842217545\n"
     ]
    }
   ],
   "source": [
    "tau, _ = kendalltau(cosine_similarities, np.round(df['overall_score']).astype(int).values)\n",
    "print('kendall_tau', 50 * (1 + tau))"
   ]
  },
  {
   "cell_type": "code",
   "execution_count": 205,
   "metadata": {},
   "outputs": [
    {
     "name": "stderr",
     "output_type": "stream",
     "text": [
      "/var/tmp/pbs.9559646.pbs/ipykernel_3700769/3457754284.py:2: SettingWithCopyWarning: \n",
      "A value is trying to be set on a copy of a slice from a DataFrame.\n",
      "Try using .loc[row_indexer,col_indexer] = value instead\n",
      "\n",
      "See the caveats in the documentation: https://pandas.pydata.org/pandas-docs/stable/user_guide/indexing.html#returning-a-view-versus-a-copy\n",
      "  X['input'] = combined_embeddings_pca\n",
      "/var/tmp/pbs.9559646.pbs/ipykernel_3700769/3457754284.py:3: SettingWithCopyWarning: \n",
      "A value is trying to be set on a copy of a slice from a DataFrame.\n",
      "Try using .loc[row_indexer,col_indexer] = value instead\n",
      "\n",
      "See the caveats in the documentation: https://pandas.pydata.org/pandas-docs/stable/user_guide/indexing.html#returning-a-view-versus-a-copy\n",
      "  X['similarity'] = cosine_similarities\n",
      "/var/tmp/pbs.9559646.pbs/ipykernel_3700769/3457754284.py:4: SettingWithCopyWarning: \n",
      "A value is trying to be set on a copy of a slice from a DataFrame.\n",
      "Try using .loc[row_indexer,col_indexer] = value instead\n",
      "\n",
      "See the caveats in the documentation: https://pandas.pydata.org/pandas-docs/stable/user_guide/indexing.html#returning-a-view-versus-a-copy\n",
      "  X['overall_score'] = np.round(df['overall_score']).astype(int).values\n"
     ]
    }
   ],
   "source": [
    "X = df[['overall_score','context_id']]\n",
    "X['input'] = combined_embeddings_pca\n",
    "X['similarity'] = cosine_similarities\n",
    "X['overall_score'] = np.round(df['overall_score']).astype(int).values\n",
    "context_id = df['context_id'].values"
   ]
  },
  {
   "cell_type": "code",
   "execution_count": 206,
   "metadata": {},
   "outputs": [],
   "source": [
    "X_flattened = X.apply(lambda col: col['input'][0], axis=1).apply(pd.Series)\n",
    "X = pd.concat([X_flattened, X[[\"context_id\",'similarity', \"overall_score\"]]], axis=1)"
   ]
  },
  {
   "cell_type": "code",
   "execution_count": 207,
   "metadata": {},
   "outputs": [],
   "source": [
    "from sklearn.model_selection import train_test_split\n",
    "context_train, context_test = train_test_split(list(range(1, 501)), test_size=0.2, random_state=42)\n",
    "train = X[X['context_id'].isin(context_train)]\n",
    "test = X[X['context_id'].isin(context_test)]\n",
    "\n",
    "X_train = train.drop(columns=[\"overall_score\"])\n",
    "y_train = train[[\"overall_score\"]]\n",
    "\n",
    "X_test = test.drop(columns=[\"overall_score\"])\n",
    "y_test = test[[\"overall_score\"]]\n",
    "\n",
    "group_train = np.bincount(context_train)[1:]\n",
    "group_train = group_train*9\n",
    "group_test = np.bincount(context_test)[1:]\n",
    "group_test = group_test*9 "
   ]
  },
  {
   "cell_type": "code",
   "execution_count": 208,
   "metadata": {},
   "outputs": [
    {
     "name": "stdout",
     "output_type": "stream",
     "text": [
      "[LightGBM] [Info] Auto-choosing col-wise multi-threading, the overhead of testing was 0.000959 seconds.\n",
      "You can set `force_col_wise=true` to remove the overhead.\n",
      "[LightGBM] [Info] Total Bins 12495\n",
      "[LightGBM] [Info] Number of data points in the train set: 3600, number of used features: 49\n",
      "[100]\ttraining's ndcg@5: 0.976359\ttraining's kendall_tau: 74.1069\tvalid_1's ndcg@5: 0.955923\tvalid_1's kendall_tau: 51.3525\n",
      "[200]\ttraining's ndcg@5: 0.991932\ttraining's kendall_tau: 78.1057\tvalid_1's ndcg@5: 0.955773\tvalid_1's kendall_tau: 52.1468\n",
      "[300]\ttraining's ndcg@5: 0.996205\ttraining's kendall_tau: 79.8994\tvalid_1's ndcg@5: 0.955873\tvalid_1's kendall_tau: 52.3452\n",
      "[400]\ttraining's ndcg@5: 0.997889\ttraining's kendall_tau: 80.9208\tvalid_1's ndcg@5: 0.956145\tvalid_1's kendall_tau: 52.5404\n",
      "[500]\ttraining's ndcg@5: 0.99888\ttraining's kendall_tau: 81.5274\tvalid_1's ndcg@5: 0.956567\tvalid_1's kendall_tau: 52.6593\n",
      "[600]\ttraining's ndcg@5: 0.999409\ttraining's kendall_tau: 82.014\tvalid_1's ndcg@5: 0.956944\tvalid_1's kendall_tau: 52.4511\n",
      "[700]\ttraining's ndcg@5: 0.99984\ttraining's kendall_tau: 82.407\tvalid_1's ndcg@5: 0.956566\tvalid_1's kendall_tau: 52.6138\n",
      "[800]\ttraining's ndcg@5: 0.999898\ttraining's kendall_tau: 82.7217\tvalid_1's ndcg@5: 0.957415\tvalid_1's kendall_tau: 52.6768\n",
      "[900]\ttraining's ndcg@5: 0.999898\ttraining's kendall_tau: 82.9776\tvalid_1's ndcg@5: 0.95702\tvalid_1's kendall_tau: 52.7525\n",
      "[1000]\ttraining's ndcg@5: 1\ttraining's kendall_tau: 83.2181\tvalid_1's ndcg@5: 0.957305\tvalid_1's kendall_tau: 52.672\n"
     ]
    }
   ],
   "source": [
    "train_data = lgb.Dataset(X_train, label=y_train, group=group_train)\n",
    "test_data = lgb.Dataset(X_test, label=y_test, group=group_test, reference=train_data)\n",
    "\n",
    "# Define LightGBM parameters\n",
    "params = {\n",
    "    'objective': 'lambdarank',\n",
    "    'metric': 'ndcg',\n",
    "    'ndcg_at': [5],\n",
    "    'learning_rate': 0.01,\n",
    "    'boosting': 'gbdt',\n",
    "    'verbose': 1\n",
    "}\n",
    "\n",
    "\n",
    "ranker = lgb.train(params, train_data, valid_sets=[train_data, test_data], \n",
    "                   num_boost_round=1000, feval=kendall_tau, callbacks=[lgb.log_evaluation(period=100)])"
   ]
  },
  {
   "cell_type": "code",
   "execution_count": 209,
   "metadata": {},
   "outputs": [
    {
     "name": "stdout",
     "output_type": "stream",
     "text": [
      "83.21809119899513\n",
      "52.67197666191091\n"
     ]
    }
   ],
   "source": [
    "y_pred_train = ranker.predict(X_train)\n",
    "y_pred_test = ranker.predict(X_test)\n",
    "\n",
    "tau, _ = kendalltau(y_train, y_pred_train)\n",
    "acc = 50 * (1 + tau)\n",
    "print(acc)\n",
    "\n",
    "tau, _ = kendalltau(y_test, y_pred_test)\n",
    "acc = 50 * (1 + tau)\n",
    "print(acc)"
   ]
  },
  {
   "cell_type": "code",
   "execution_count": 210,
   "metadata": {},
   "outputs": [],
   "source": [
    "df.reset_index(drop=True, inplace=True)\n",
    "acc_list = []\n",
    "for id in context_test:\n",
    "    test_subset = test[test['context_id'] == id]\n",
    "    X_subset = test_subset.drop(columns=[\"overall_score\"])\n",
    "    y_subset = test_subset[[\"overall_score\"]]\n",
    "\n",
    "    y_pred_subset = ranker.predict(X_subset)\n",
    "\n",
    "    # Calculate accuracy using Kendall's Tau\n",
    "    tau, _ = kendalltau(y_subset, y_pred_subset)\n",
    "    acc = 50 * (1 + tau)\n",
    "    acc_list.append(acc)"
   ]
  },
  {
   "cell_type": "code",
   "execution_count": 212,
   "metadata": {},
   "outputs": [
    {
     "data": {
      "text/plain": [
       "53.09149901666611"
      ]
     },
     "execution_count": 212,
     "metadata": {},
     "output_type": "execute_result"
    }
   ],
   "source": [
    "np.nanmean(acc_list)"
   ]
  },
  {
   "cell_type": "markdown",
   "metadata": {},
   "source": [
    "### Tokenizer and word emnedding (combine the context and response)"
   ]
  },
  {
   "cell_type": "code",
   "execution_count": 5,
   "metadata": {},
   "outputs": [
    {
     "name": "stderr",
     "output_type": "stream",
     "text": [
      "Tokenizing: 100%|██████████| 4500/4500 [00:03<00:00, 1144.22text/s]\n",
      "Embedding: 100%|██████████| 4500/4500 [08:46<00:00,  8.55text/s]\n"
     ]
    }
   ],
   "source": [
    "context_response_embeddings = tokenizer_with_progress(df['context_response'].tolist())\n",
    "bert_features = [tf.reduce_mean(embed, axis=1) for embed in context_response_embeddings]"
   ]
  },
  {
   "cell_type": "code",
   "execution_count": 7,
   "metadata": {},
   "outputs": [],
   "source": [
    "# text_data = df['context_response'].tolist()\n",
    "y = np.round(df['overall_score']).astype(int).values\n",
    "context_id = df['context_id'].values"
   ]
  },
  {
   "cell_type": "code",
   "execution_count": 23,
   "metadata": {},
   "outputs": [],
   "source": [
    "bert_features_2d = np.array(bert_features).reshape(4500, 768)\n",
    "columns = [f'col{i+1}' for i in range(bert_features_2d.shape[1])]\n",
    "X = pd.DataFrame(bert_features_2d, columns=columns)\n",
    "X['overall_score'] = y\n",
    "X['context_id'] = context_id"
   ]
  },
  {
   "cell_type": "markdown",
   "metadata": {},
   "source": [
    "#### Control for fix effect (ignore first)"
   ]
  },
  {
   "cell_type": "code",
   "execution_count": null,
   "metadata": {},
   "outputs": [],
   "source": [
    "import statsmodels.api as sm\n",
    "from patsy import dmatrices\n",
    "\n",
    "cols_to_include = [col for col in X.columns if col.startswith('col')]\n",
    "formula = ' + '.join(cols_to_include)\n",
    "formula = 'overall_score ~ C(context_id) + ' + formula\n",
    "\n",
    "# Fit a fixed-effects model with train_id as a fixed effect\n",
    "model = sm.OLS.from_formula(formula, data=X)\n",
    "result = model.fit()\n",
    "\n",
    "# Print the summary of the model\n",
    "# print(result.summary())"
   ]
  },
  {
   "cell_type": "code",
   "execution_count": 41,
   "metadata": {},
   "outputs": [],
   "source": [
    "fixed_effect = result.params.filter(like='C(context_id)')\n",
    "fixed_effect = fixed_effect.to_list()\n",
    "# print(len(fixed_effect))\n",
    "fixed_effect = [0] + fixed_effect\n",
    "fixed_effect = [effect for effect in fixed_effect for _ in range(9)]\n",
    "# print(len(fixed_effect))\n",
    "X['fixed_effect'] = fixed_effect\n",
    "X['adjust_score'] = X['fixed_effect'] + X['overall_score']"
   ]
  },
  {
   "cell_type": "code",
   "execution_count": 55,
   "metadata": {},
   "outputs": [],
   "source": [
    "X['adjust_score'] = np.round(X['adjust_score']).astype(int).values\n",
    "min_num = X['adjust_score'].min()\n",
    "if min_num < 0:\n",
    "    X['adjust_score'] = X['adjust_score'] - min_num"
   ]
  },
  {
   "cell_type": "markdown",
   "metadata": {},
   "source": [
    "### Ranking"
   ]
  },
  {
   "cell_type": "code",
   "execution_count": 24,
   "metadata": {},
   "outputs": [],
   "source": [
    "from sklearn.model_selection import train_test_split\n",
    "context_train, context_test = train_test_split(list(range(1, 501)), test_size=0.2, random_state=42)\n",
    "train = X[X['context_id'].isin(context_train)]\n",
    "test = X[X['context_id'].isin(context_test)]\n",
    "\n",
    "X_train = train.drop(columns=[\"overall_score\"])\n",
    "y_train = train[[\"overall_score\"]]\n",
    "\n",
    "X_test = test.drop(columns=[\"overall_score\"])\n",
    "y_test = test[[\"overall_score\"]]\n",
    "\n",
    "group_train = np.bincount(context_train)[1:]\n",
    "group_train = group_train*9 \n",
    "group_test = np.bincount(context_test)[1:]\n",
    "group_test = group_test*9 "
   ]
  },
  {
   "cell_type": "code",
   "execution_count": 30,
   "metadata": {},
   "outputs": [
    {
     "name": "stdout",
     "output_type": "stream",
     "text": [
      "[LightGBM] [Info] Auto-choosing col-wise multi-threading, the overhead of testing was 0.011484 seconds.\n",
      "You can set `force_col_wise=true` to remove the overhead.\n",
      "[LightGBM] [Info] Total Bins 196095\n",
      "[LightGBM] [Info] Number of data points in the train set: 3600, number of used features: 769\n",
      "[500]\ttraining's ndcg@5: 0.998863\ttraining's kendall_tau: 83.099\tvalid_1's ndcg@5: 0.969937\tvalid_1's kendall_tau: 57.851\n",
      "[1000]\ttraining's ndcg@5: 0.999106\ttraining's kendall_tau: 84.2861\tvalid_1's ndcg@5: 0.971165\tvalid_1's kendall_tau: 58.5987\n",
      "[1500]\ttraining's ndcg@5: 0.999106\ttraining's kendall_tau: 84.8325\tvalid_1's ndcg@5: 0.971834\tvalid_1's kendall_tau: 58.9596\n",
      "[2000]\ttraining's ndcg@5: 0.999106\ttraining's kendall_tau: 85.1606\tvalid_1's ndcg@5: 0.970895\tvalid_1's kendall_tau: 59.0775\n",
      "[2500]\ttraining's ndcg@5: 0.999106\ttraining's kendall_tau: 85.4071\tvalid_1's ndcg@5: 0.971863\tvalid_1's kendall_tau: 59.2136\n",
      "[3000]\ttraining's ndcg@5: 0.999106\ttraining's kendall_tau: 85.5807\tvalid_1's ndcg@5: 0.971602\tvalid_1's kendall_tau: 59.2636\n"
     ]
    }
   ],
   "source": [
    "train_data = lgb.Dataset(X_train, label=y_train, group=group_train)\n",
    "test_data = lgb.Dataset(X_test, label=y_test, group=group_test, reference=train_data)\n",
    "\n",
    "def kendall_tau(preds, train_data):\n",
    "    y_true = train_data.get_label()\n",
    "    tau, _ = kendalltau(y_true, preds)\n",
    "    return 'kendall_tau', 50 * (1 + tau), True\n",
    "\n",
    "\n",
    "# Define LightGBM parameters\n",
    "params = {\n",
    "    'objective': 'lambdarank',\n",
    "    'metric': 'ndcg',\n",
    "    'ndcg_at': [5],\n",
    "    'learning_rate': 0.01,\n",
    "    'boosting': 'gbdt',\n",
    "    'verbose': 1\n",
    "}\n",
    "\n",
    "\n",
    "ranker = lgb.train(params, train_data, valid_sets=[train_data, test_data], \n",
    "                   num_boost_round=3000, feval=kendall_tau, callbacks=[lgb.log_evaluation(period=500)])"
   ]
  },
  {
   "cell_type": "code",
   "execution_count": 31,
   "metadata": {},
   "outputs": [
    {
     "name": "stdout",
     "output_type": "stream",
     "text": [
      "85.58066027077025\n",
      "59.263605696977265\n"
     ]
    }
   ],
   "source": [
    "y_pred_train = ranker.predict(X_train)\n",
    "y_pred_test = ranker.predict(X_test)\n",
    "\n",
    "tau, _ = kendalltau(y_train, y_pred_train)\n",
    "acc = 50 * (1 + tau)\n",
    "print(acc)\n",
    "\n",
    "tau, _ = kendalltau(y_test, y_pred_test)\n",
    "acc = 50 * (1 + tau)\n",
    "print(acc)"
   ]
  },
  {
   "cell_type": "code",
   "execution_count": 32,
   "metadata": {},
   "outputs": [],
   "source": [
    "df.reset_index(drop=True, inplace=True)\n",
    "acc_list = []\n",
    "for id in context_test:\n",
    "    test_subset = test[test['context_id'] == id]\n",
    "    X_subset = test_subset.drop(columns=[\"overall_score\"])\n",
    "    y_subset = test_subset[[\"overall_score\"]]\n",
    "\n",
    "    y_pred_subset = ranker.predict(X_subset)\n",
    "\n",
    "    # Calculate accuracy using Kendall's Tau\n",
    "    tau, _ = kendalltau(y_subset, y_pred_subset)\n",
    "    acc = 50 * (1 + tau)\n",
    "    acc_list.append(acc)"
   ]
  },
  {
   "cell_type": "code",
   "execution_count": 33,
   "metadata": {},
   "outputs": [
    {
     "data": {
      "text/plain": [
       "63.87148979822759"
      ]
     },
     "execution_count": 33,
     "metadata": {},
     "output_type": "execute_result"
    }
   ],
   "source": [
    "np.nanmean(acc_list)"
   ]
  },
  {
   "cell_type": "markdown",
   "metadata": {},
   "source": [
    "### PCA"
   ]
  },
  {
   "cell_type": "code",
   "execution_count": 59,
   "metadata": {},
   "outputs": [
    {
     "name": "stderr",
     "output_type": "stream",
     "text": [
      "/var/tmp/pbs.9560567.pbs/ipykernel_4138335/179227380.py:6: SettingWithCopyWarning: \n",
      "A value is trying to be set on a copy of a slice from a DataFrame\n",
      "\n",
      "See the caveats in the documentation: https://pandas.pydata.org/pandas-docs/stable/user_guide/indexing.html#returning-a-view-versus-a-copy\n",
      "  train.rename(columns={col: str(col) for col in train.columns}, inplace=True)\n",
      "/var/tmp/pbs.9560567.pbs/ipykernel_4138335/179227380.py:7: SettingWithCopyWarning: \n",
      "A value is trying to be set on a copy of a slice from a DataFrame\n",
      "\n",
      "See the caveats in the documentation: https://pandas.pydata.org/pandas-docs/stable/user_guide/indexing.html#returning-a-view-versus-a-copy\n",
      "  test.rename(columns={col: str(col) for col in test.columns}, inplace=True)\n"
     ]
    }
   ],
   "source": [
    "from sklearn.model_selection import train_test_split\n",
    "context_train, context_test = train_test_split(list(range(1, 501)), test_size=0.2, random_state=42)\n",
    "train = X[X['context_id'].isin(context_train)]\n",
    "test = X[X['context_id'].isin(context_test)]\n",
    "\n",
    "train.rename(columns={col: str(col) for col in train.columns}, inplace=True)\n",
    "test.rename(columns={col: str(col) for col in test.columns}, inplace=True)\n",
    "\n",
    "\n",
    "X_train = train.drop(columns=[\"overall_score\"])\n",
    "y_train = train[[\"overall_score\"]]\n",
    "\n",
    "X_test = test.drop(columns=[\"overall_score\"])\n",
    "y_test = test[[\"overall_score\"]]\n",
    "\n",
    "group_train = np.bincount(context_train)[1:]\n",
    "group_train = group_train*9 \n",
    "group_test = np.bincount(context_test)[1:]\n",
    "group_test = group_test*9 "
   ]
  },
  {
   "cell_type": "code",
   "execution_count": 61,
   "metadata": {},
   "outputs": [],
   "source": [
    "from sklearn.preprocessing import StandardScaler\n",
    "from sklearn.decomposition import PCA\n",
    "\n",
    "# Standardize the feature columns separately for the training and testing sets\n",
    "scaler = StandardScaler()\n",
    "X_train_scaled = X_train.drop(columns=[\"context_id\"])\n",
    "X_test_scaled = X_test.drop(columns=[\"context_id\"])\n",
    "X_train_scaled = scaler.fit_transform(X_train_scaled)\n",
    "X_test_scaled = scaler.transform(X_test_scaled)"
   ]
  },
  {
   "cell_type": "code",
   "execution_count": 62,
   "metadata": {},
   "outputs": [
    {
     "data": {
      "image/png": "[encoded data removed]",
      "text/plain": [
       "<Figure size 500x500 with 1 Axes>"
      ]
     },
     "metadata": {},
     "output_type": "display_data"
    },
    {
     "name": "stdout",
     "output_type": "stream",
     "text": [
      "Number of components explaining 70% variance: 39\n"
     ]
    }
   ],
   "source": [
    "# Check how many PCA can explain 80% of the data\n",
    "pca = PCA()\n",
    "X_train_pca = pca.fit_transform(X_train_scaled)\n",
    "\n",
    "# Calculate explained variance ratio\n",
    "explained_variance_ratio = pca.explained_variance_ratio_\n",
    "cumulative_explained_variance = np.cumsum(explained_variance_ratio)\n",
    "\n",
    "# Find the number of components\n",
    "n_components_70 = np.argmax(cumulative_explained_variance >= 0.7) + 1\n",
    "\n",
    "# Plot \n",
    "plt.figure(figsize=(5, 5))\n",
    "plt.plot(range(1, len(cumulative_explained_variance) + 1), cumulative_explained_variance, marker='o', linestyle='-')\n",
    "plt.xlabel('Number of Principal Components')\n",
    "plt.ylabel('Cumulative Explained Variance')\n",
    "plt.title('Cumulative Explained Variance')\n",
    "plt.axvline(x=n_components_70, color='r', linestyle='--', label=f'{n_components_70} components (70% variance)')\n",
    "plt.legend()\n",
    "\n",
    "plt.tight_layout()\n",
    "plt.show()\n",
    "\n",
    "print(f\"Number of components explaining 70% variance: {n_components_70}\")"
   ]
  },
  {
   "cell_type": "code",
   "execution_count": 63,
   "metadata": {},
   "outputs": [],
   "source": [
    "# Apply PCA only to the standardized feature columns\n",
    "pca = PCA(n_components=39)  # Adjust the number of components as needed\n",
    "X_train_pca = pd.DataFrame(pca.fit_transform(X_train_scaled))\n",
    "X_test_pca = pd.DataFrame(pca.transform(X_test_scaled))\n",
    "\n",
    "X_train.reset_index(drop=True, inplace=True)\n",
    "X_train_pca = pd.concat([X_train_pca, X_train['context_id']], axis=1)\n",
    "\n",
    "X_test.reset_index(drop=True, inplace=True)\n",
    "X_test_pca = pd.concat([X_test_pca, X_test['context_id']], axis=1)"
   ]
  },
  {
   "cell_type": "code",
   "execution_count": 65,
   "metadata": {},
   "outputs": [],
   "source": [
    "X_train_pca_dropped = X_train_pca.drop(X_train_pca.columns[0], axis=1)\n",
    "X_test_pca_dropped = X_test_pca.drop(X_test_pca.columns[0], axis=1)"
   ]
  },
  {
   "cell_type": "code",
   "execution_count": null,
   "metadata": {},
   "outputs": [],
   "source": [
    "x_train_data = X_train_pca_dropped\n",
    "x_test_data = X_test_pca_dropped\n",
    "\n",
    "\n",
    "train_data = lgb.Dataset(x_train_data, label=y_train, group=group_train)\n",
    "test_data = lgb.Dataset(x_test_data, label=y_test, group=group_test, reference=train_data)\n",
    "\n",
    "def kendall_tau(preds, train_data):\n",
    "    y_true = train_data.get_label()\n",
    "    tau, _ = kendalltau(y_true, preds)\n",
    "    return 'kendall_tau', 50 * (1 + tau), True\n",
    "\n",
    "# Define LightGBM parameters\n",
    "params = {\n",
    "    'objective': 'lambdarank',\n",
    "    'metric': 'ndcg',\n",
    "    'ndcg_at': [5],\n",
    "    'learning_rate': 0.01,\n",
    "    'boosting': 'gbdt',\n",
    "    'lambda_l1': 0.3, \n",
    "    'lambda_l2': 0.1, \n",
    "    'verbose': 1\n",
    "}\n",
    "\n",
    "ranker = lgb.train(params, train_data, valid_sets=[train_data, test_data], num_boost_round=3000, feval=kendall_tau, callbacks=[lgb.log_evaluation(period=500)])"
   ]
  },
  {
   "cell_type": "code",
   "execution_count": 67,
   "metadata": {},
   "outputs": [
    {
     "name": "stdout",
     "output_type": "stream",
     "text": [
      "80.17971834631001\n",
      "56.72362930980446\n"
     ]
    }
   ],
   "source": [
    "y_pred_train = ranker.predict(x_train_data)\n",
    "y_pred_test = ranker.predict(x_test_data)\n",
    "\n",
    "tau, _ = kendalltau(y_train, y_pred_train)\n",
    "acc = 50 * (1 + tau)\n",
    "print(acc)\n",
    "\n",
    "tau, _ = kendalltau(y_test, y_pred_test)\n",
    "acc = 50 * (1 + tau)\n",
    "print(acc)"
   ]
  },
  {
   "cell_type": "code",
   "execution_count": null,
   "metadata": {},
   "outputs": [],
   "source": [
    "df.reset_index(drop=True, inplace=True)\n",
    "acc_list = []\n",
    "for id in context_test:\n",
    "    test_subset = test[test['context_id'] == id]\n",
    "    X_subset = test_subset.drop(columns=[\"overall_score\", \"context_id\"])\n",
    "    X_subset_scaled = scaler.transform(X_subset)    \n",
    "    X_subset_pca = pca.transform(X_subset_scaled)\n",
    "    X_subset_pca = pd.DataFrame(X_subset_pca)\n",
    "    X_subset_pca[\"context_id\"] = [id]*len(X_subset_pca)\n",
    "    X_subset_pca_dropped = X_subset_pca.drop(columns=[0])\n",
    "    y_subset = test_subset[[\"overall_score\"]]\n",
    "\n",
    "    y_pred_subset = ranker.predict(X_subset_pca_dropped)\n",
    "   \n",
    "    # Calculate accuracy using Kendall's Tau\n",
    "    tau, _ = kendalltau(y_subset, y_pred_subset)\n",
    "    acc = 50 * (1 + tau)\n",
    "    acc_list.append(acc)"
   ]
  },
  {
   "cell_type": "code",
   "execution_count": 81,
   "metadata": {},
   "outputs": [
    {
     "data": {
      "text/plain": [
       "61.24865752363682"
      ]
     },
     "execution_count": 81,
     "metadata": {},
     "output_type": "execute_result"
    }
   ],
   "source": [
    "np.nanmean(acc_list)"
   ]
  },
  {
   "cell_type": "markdown",
   "metadata": {},
   "source": [
    "### Imput as a vector"
   ]
  },
  {
   "cell_type": "code",
   "execution_count": 82,
   "metadata": {},
   "outputs": [],
   "source": [
    "from tensorflow.keras.layers import Dense\n",
    "from tensorflow.keras.models import Sequential\n",
    "from tensorflow.keras.optimizers import Adam"
   ]
  },
  {
   "cell_type": "code",
   "execution_count": 95,
   "metadata": {},
   "outputs": [
    {
     "data": {
      "text/html": [
       "<div>\n",
       "<style scoped>\n",
       "    .dataframe tbody tr th:only-of-type {\n",
       "        vertical-align: middle;\n",
       "    }\n",
       "\n",
       "    .dataframe tbody tr th {\n",
       "        vertical-align: top;\n",
       "    }\n",
       "\n",
       "    .dataframe thead th {\n",
       "        text-align: right;\n",
       "    }\n",
       "</style>\n",
       "<table border=\"1\" class=\"dataframe\">\n",
       "  <thead>\n",
       "    <tr style=\"text-align: right;\">\n",
       "      <th></th>\n",
       "      <th>context_id</th>\n",
       "      <th>context_response</th>\n",
       "      <th>overall_score</th>\n",
       "    </tr>\n",
       "  </thead>\n",
       "  <tbody>\n",
       "    <tr>\n",
       "      <th>0</th>\n",
       "      <td>1</td>\n",
       "      <td>[17 weeks if im not mistaken. then the playoff...</td>\n",
       "      <td>[4.0, 3.75, 3.0, 3.75, 3.75, 3.5, 4.25, 4.5, 3.5]</td>\n",
       "    </tr>\n",
       "    <tr>\n",
       "      <th>1</th>\n",
       "      <td>2</td>\n",
       "      <td>[18 holes a games. Seems like a long day.\\nYea...</td>\n",
       "      <td>[3.75, 4.25, 4.0, 4.5, 3.5, 4.25, 3.0, 2.5, 3.75]</td>\n",
       "    </tr>\n",
       "    <tr>\n",
       "      <th>2</th>\n",
       "      <td>3</td>\n",
       "      <td>[222-0. I dont even see how that is possible. ...</td>\n",
       "      <td>[3.0, 4.5, 2.5, 1.25, 4.5, 1.5, 1.0, 4.75, 3.25]</td>\n",
       "    </tr>\n",
       "    <tr>\n",
       "      <th>3</th>\n",
       "      <td>4</td>\n",
       "      <td>[300 of them? that sounds impressive and too b...</td>\n",
       "      <td>[3.25, 4.25, 3.75, 4.0, 3.5, 4.5, 2.75, 3.75, ...</td>\n",
       "    </tr>\n",
       "    <tr>\n",
       "      <th>4</th>\n",
       "      <td>5</td>\n",
       "      <td>[A Mars colonization project planned for 2023 ...</td>\n",
       "      <td>[3.5, 4.0, 4.5, 4.0, 3.0, 3.75, 2.25, 4.0, 2.75]</td>\n",
       "    </tr>\n",
       "  </tbody>\n",
       "</table>\n",
       "</div>"
      ],
      "text/plain": [
       "   context_id                                   context_response  \\\n",
       "0           1  [17 weeks if im not mistaken. then the playoff...   \n",
       "1           2  [18 holes a games. Seems like a long day.\\nYea...   \n",
       "2           3  [222-0. I dont even see how that is possible. ...   \n",
       "3           4  [300 of them? that sounds impressive and too b...   \n",
       "4           5  [A Mars colonization project planned for 2023 ...   \n",
       "\n",
       "                                       overall_score  \n",
       "0  [4.0, 3.75, 3.0, 3.75, 3.75, 3.5, 4.25, 4.5, 3.5]  \n",
       "1  [3.75, 4.25, 4.0, 4.5, 3.5, 4.25, 3.0, 2.5, 3.75]  \n",
       "2   [3.0, 4.5, 2.5, 1.25, 4.5, 1.5, 1.0, 4.75, 3.25]  \n",
       "3  [3.25, 4.25, 3.75, 4.0, 3.5, 4.5, 2.75, 3.75, ...  \n",
       "4   [3.5, 4.0, 4.5, 4.0, 3.0, 3.75, 2.25, 4.0, 2.75]  "
      ]
     },
     "execution_count": 95,
     "metadata": {},
     "output_type": "execute_result"
    }
   ],
   "source": [
    "data_grouped = df.groupby('context_id').agg({\n",
    "    'context_response': list, \n",
    "    'overall_score': list\n",
    "}).reset_index()\n",
    "data_grouped.head()"
   ]
  },
  {
   "cell_type": "code",
   "execution_count": 102,
   "metadata": {},
   "outputs": [],
   "source": [
    "class RankingModel(tf.keras.Model):\n",
    "    def __init__(self, num_outputs, bert_trainable=False):\n",
    "        super(RankingModel, self).__init__()\n",
    "        self.bert = TFBertModel.from_pretrained('bert-base-uncased')\n",
    "        self.bert.trainable = bert_trainable\n",
    "        self.dense = Dense(num_outputs, activation='linear')\n",
    "\n",
    "    def call(self, inputs):\n",
    "        bert_output = self.bert(inputs)[0][:, 0, :]\n",
    "        output = self.dense(bert_output)\n",
    "        return output\n",
    "\n",
    "def custom_loss(true_labels, output):\n",
    "    return 1 - tf.reduce_mean(tf.keras.losses.cosine_similarity(true_labels, output))\n",
    "\n",
    "def train_model(data, true_labels, epochs, lr, bert_trainable=False):\n",
    "    tokenizer = BertTokenizer.from_pretrained('bert-base-uncased')\n",
    "    model = RankingModel(num_outputs=1, bert_trainable=bert_trainable)\n",
    "    optimizer = Adam(lr=lr)\n",
    "\n",
    "    for epoch in range(epochs):\n",
    "        total_loss = 0\n",
    "        for i in tqdm(range(len(data)), desc=f'Epoch {epoch+1}/{epochs}', unit='batch'):\n",
    "            with tf.GradientTape() as tape:\n",
    "                input_ids = []\n",
    "                for sentence in data[i]:\n",
    "                    encoded = tokenizer.encode(\n",
    "                        sentence,\n",
    "                        add_special_tokens=True,\n",
    "                        max_length=128,\n",
    "                        truncation=True,\n",
    "                        padding='max_length',\n",
    "                        return_tensors='tf'\n",
    "                    )\n",
    "                    input_ids.append(encoded)\n",
    "                input_ids = tf.concat(input_ids, axis=0)\n",
    "                labels = tf.constant([true_labels[i]], dtype=tf.float32)\n",
    "                outputs = model(input_ids)\n",
    "                loss = custom_loss(labels, outputs)\n",
    "                grads = tape.gradient(loss, model.trainable_variables)\n",
    "                optimizer.apply_gradients(zip(grads, model.trainable_variables))\n",
    "                total_loss += loss\n",
    "\n",
    "        print(f\"Epoch {epoch+1}/{epochs}, Loss: {total_loss/len(data)}\")\n",
    "\n",
    "    return model\n",
    "\n",
    "def predict_scores(model, data):\n",
    "    tokenizer = BertTokenizer.from_pretrained('bert-base-uncased')\n",
    "    predictions = []\n",
    "\n",
    "    for i in range(len(data)):\n",
    "        input_ids = []\n",
    "        for sentence in data[i]:\n",
    "            encoded = tokenizer.encode(\n",
    "                sentence,\n",
    "                add_special_tokens=True,\n",
    "                max_length=128,\n",
    "                truncation=True,\n",
    "                padding='max_length',\n",
    "                return_tensors='tf'\n",
    "            )\n",
    "            input_ids.append(encoded)\n",
    "        input_ids = tf.concat(input_ids, axis=0)\n",
    "        outputs = model(input_ids)\n",
    "        predictions.append(outputs.numpy().flatten())\n",
    "\n",
    "    return predictions\n",
    "\n",
    "def calculate_kendall_tau(true_labels, predicted_scores):\n",
    "    tau_list = []\n",
    "\n",
    "    for true, pred in zip(true_labels, predicted_scores):\n",
    "        tau, _ = kendalltau(true, pred)\n",
    "        tau_list.append(50*(1+tau))\n",
    "\n",
    "    return tau_list"
   ]
  },
  {
   "cell_type": "code",
   "execution_count": null,
   "metadata": {},
   "outputs": [
    {
     "name": "stderr",
     "output_type": "stream",
     "text": [
      "Some weights of the PyTorch model were not used when initializing the TF 2.0 model TFBertModel: ['cls.predictions.transform.LayerNorm.weight', 'cls.predictions.transform.dense.weight', 'cls.predictions.transform.LayerNorm.bias', 'cls.seq_relationship.weight', 'cls.predictions.bias', 'cls.seq_relationship.bias', 'cls.predictions.transform.dense.bias']\n",
      "- This IS expected if you are initializing TFBertModel from a PyTorch model trained on another task or with another architecture (e.g. initializing a TFBertForSequenceClassification model from a BertForPreTraining model).\n",
      "- This IS NOT expected if you are initializing TFBertModel from a PyTorch model that you expect to be exactly identical (e.g. initializing a TFBertForSequenceClassification model from a BertForSequenceClassification model).\n",
      "All the weights of TFBertModel were initialized from the PyTorch model.\n",
      "If your task is similar to the task the model of the checkpoint was trained on, you can already use TFBertModel for predictions without further training.\n",
      "WARNING:absl:`lr` is deprecated in Keras optimizer, please use `learning_rate` or use the legacy optimizer, e.g.,tf.keras.optimizers.legacy.Adam.\n",
      "Epoch 1/5: 100%|██████████| 80/80 [00:23<00:00,  3.44batch/s]\n"
     ]
    },
    {
     "name": "stdout",
     "output_type": "stream",
     "text": [
      "Epoch 1/5, Loss: -1.9418901205062866\n"
     ]
    },
    {
     "name": "stderr",
     "output_type": "stream",
     "text": [
      "Epoch 2/5: 100%|██████████| 80/80 [00:23<00:00,  3.47batch/s]\n"
     ]
    },
    {
     "name": "stdout",
     "output_type": "stream",
     "text": [
      "Epoch 2/5, Loss: -1.9584420919418335\n"
     ]
    },
    {
     "name": "stderr",
     "output_type": "stream",
     "text": [
      "Epoch 3/5: 100%|██████████| 80/80 [00:23<00:00,  3.47batch/s]\n"
     ]
    },
    {
     "name": "stdout",
     "output_type": "stream",
     "text": [
      "Epoch 3/5, Loss: -1.9584420919418335\n"
     ]
    },
    {
     "name": "stderr",
     "output_type": "stream",
     "text": [
      "Epoch 4/5:  79%|███████▉  | 63/80 [00:18<00:04,  3.48batch/s]"
     ]
    }
   ],
   "source": [
    "data = data_grouped[\"context_response\"].tolist()\n",
    "true_labels = data_grouped[\"overall_score\"].tolist()\n",
    "\n",
    "#### For test\n",
    "data = data[:100]\n",
    "true_labels = true_labels[:100]\n",
    "data_train, data_test, labels_train, labels_test = train_test_split(data, true_labels, test_size=0.2, random_state=42)\n",
    "\n",
    "# Train the model\n",
    "model = train_model(data_train, labels_train, epochs=3, lr=0.01, bert_trainable=True)"
   ]
  },
  {
   "cell_type": "code",
   "execution_count": 109,
   "metadata": {},
   "outputs": [
    {
     "name": "stdout",
     "output_type": "stream",
     "text": [
      "Kendall's Tau: [39.84547006925096, 60.476975951561876, 42.26269424262284, 46.549672203288225, 75.72478777137633, 32.85014148574912, 38.21488698022421, 31.666666666666664, 63.055824196677335, 55.89255650988789, 70.00816826662603, 48.503289149776876, 42.74676433517926, 36.0728496367211, 21.56249384576064, 60.154529930749035, 39.84547006925096, 44.28338049524971, 48.54935286703585, 70.00816826662603]\n"
     ]
    }
   ],
   "source": [
    "# Predict scores using the trained model\n",
    "predicted_scores = predict_scores(model, data_test)\n",
    "kendall_tau = calculate_kendall_tau(labels_test, predicted_scores)\n",
    "print(\"Kendall's Tau:\", kendall_tau)"
   ]
  },
  {
   "cell_type": "code",
   "execution_count": 110,
   "metadata": {},
   "outputs": [
    {
     "data": {
      "text/plain": [
       "48.41370714701405"
      ]
     },
     "execution_count": 110,
     "metadata": {},
     "output_type": "execute_result"
    }
   ],
   "source": [
    "np.mean(kendall_tau)"
   ]
  },
  {
   "cell_type": "code",
   "execution_count": null,
   "metadata": {},
   "outputs": [],
   "source": []
  }
 ],
 "metadata": {
  "kernelspec": {
   "display_name": "Python [conda env:tf2_env]",
   "language": "python",
   "name": "conda-env-tf2_env-py"
  },
  "language_info": {
   "codemirror_mode": {
    "name": "ipython",
    "version": 3
   },
   "file_extension": ".py",
   "mimetype": "text/x-python",
   "name": "python",
   "nbconvert_exporter": "python",
   "pygments_lexer": "ipython3",
   "version": "3.11.9"
  }
 },
 "nbformat": 4,
 "nbformat_minor": 2
}
